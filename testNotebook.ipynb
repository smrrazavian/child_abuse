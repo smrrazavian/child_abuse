{
 "cells": [
  {
   "cell_type": "code",
   "execution_count": 1,
   "metadata": {},
   "outputs": [],
   "source": [
    "# imports :\n",
    "from gensim import models"
   ]
  },
  {
   "cell_type": "code",
   "execution_count": 2,
   "metadata": {},
   "outputs": [
    {
     "ename": "NameError",
     "evalue": "name 'BoW_corpus' is not defined",
     "output_type": "error",
     "traceback": [
      "\u001b[0;31m---------------------------------------------------------------------------\u001b[0m",
      "\u001b[0;31mNameError\u001b[0m                                 Traceback (most recent call last)",
      "\u001b[1;32m/home/smrrazavian/Documents/Personal-Projects/child_abuse/child_abuse_detection/testNotebook.ipynb Cell 2'\u001b[0m in \u001b[0;36m<cell line: 1>\u001b[0;34m()\u001b[0m\n\u001b[0;32m----> <a href='vscode-notebook-cell:/home/smrrazavian/Documents/Personal-Projects/child_abuse/child_abuse_detection/testNotebook.ipynb#ch0000001?line=0'>1</a>\u001b[0m tfidf \u001b[39m=\u001b[39m models\u001b[39m.\u001b[39mTfidfModel(BoW_corpus)\n\u001b[1;32m      <a href='vscode-notebook-cell:/home/smrrazavian/Documents/Personal-Projects/child_abuse/child_abuse_detection/testNotebook.ipynb#ch0000001?line=1'>2</a>\u001b[0m words \u001b[39m=\u001b[39m \u001b[39m\"\u001b[39m\u001b[39mtrees graph\u001b[39m\u001b[39m\"\u001b[39m\u001b[39m.\u001b[39mlower()\u001b[39m.\u001b[39msplit()\n",
      "\u001b[0;31mNameError\u001b[0m: name 'BoW_corpus' is not defined"
     ]
    }
   ],
   "source": [
    "tfidf = models.TfidfModel()\n",
    "words = \"trees graph\".lower().split()"
   ]
  }
 ],
 "metadata": {
  "interpreter": {
   "hash": "1069a2b8d2109a708c169ca5f8b71d477001ee0cd8131b51b4f85c8597a7a2dc"
  },
  "kernelspec": {
   "display_name": "Python 3.8.10 ('venv': venv)",
   "language": "python",
   "name": "python3"
  },
  "language_info": {
   "codemirror_mode": {
    "name": "ipython",
    "version": 3
   },
   "file_extension": ".py",
   "mimetype": "text/x-python",
   "name": "python",
   "nbconvert_exporter": "python",
   "pygments_lexer": "ipython3",
   "version": "3.8.10"
  },
  "orig_nbformat": 4
 },
 "nbformat": 4,
 "nbformat_minor": 2
}
